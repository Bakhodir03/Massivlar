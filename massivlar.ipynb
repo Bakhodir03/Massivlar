{
  "nbformat": 4,
  "nbformat_minor": 0,
  "metadata": {
    "colab": {
      "provenance": [],
      "authorship_tag": "ABX9TyOF9cIt8y/IE7AMZ0JKCJTq",
      "include_colab_link": true
    },
    "kernelspec": {
      "name": "python3",
      "display_name": "Python 3"
    },
    "language_info": {
      "name": "python"
    }
  },
  "cells": [
    {
      "cell_type": "markdown",
      "metadata": {
        "id": "view-in-github",
        "colab_type": "text"
      },
      "source": [
        "<a href=\"https://colab.research.google.com/github/Bakhodir03/Massivlar/blob/main/massivlar.ipynb\" target=\"_parent\"><img src=\"https://colab.research.google.com/assets/colab-badge.svg\" alt=\"Open In Colab\"/></a>"
      ]
    },
    {
      "cell_type": "markdown",
      "source": [
        "#Matritsani hosil qilish va uning elementlarini chiqarish\n"
      ],
      "metadata": {
        "id": "JxmApRFJoACQ"
      }
    },
    {
      "cell_type": "code",
      "execution_count": 3,
      "metadata": {
        "id": "DA5rYNYCn1qN"
      },
      "outputs": [],
      "source": [
        "def m_1():\n",
        "  n = int(input(\"Qatorlar soni n= \"))\n",
        "  m = int(input(\"Ustunlar soni m= \"))\n",
        "\n",
        "  matrix = []\n",
        "  for i in range(n):\n",
        "      row = []\n",
        "      for j in range(m):\n",
        "          row.append((i * m + j + 1) * 10)\n",
        "      matrix.append(row)\n",
        "  for r in matrix:\n",
        "      print(r)\n",
        "\n",
        "\n"
      ]
    },
    {
      "cell_type": "code",
      "source": [
        "def m_2():\n",
        "  n = int(input(\"Qatorlar soni n= \"))\n",
        "  m = int(input(\"Ustunlar soni m= \"))\n",
        "  matrix = []\n",
        "  for i in range (n):\n",
        "    row = []\n",
        "    for j in range (n):\n",
        "      row.append((j*5) + 5)\n",
        "    matrix.append(row)\n",
        "  for r in matrix:\n",
        "    print(r)\n"
      ],
      "metadata": {
        "id": "5pF-P48yptky"
      },
      "execution_count": 4,
      "outputs": []
    },
    {
      "cell_type": "code",
      "source": [
        "\n",
        "def m_3():\n",
        "    n = int(input(\"Ustunlar soni n= \"))\n",
        "    m = int(input(\"Satrlar soni m= \"))\n",
        "\n",
        "    first_col = input(f\"{n} ta sonni vergul bilan kiriting: \").split(\",\")\n",
        "    first_col = [int(i) for i in first_col]\n",
        "\n",
        "    matrix = []\n",
        "    for c in first_col:\n",
        "        row = [c] * n\n",
        "        matrix.append(row)\n",
        "\n",
        "    print(\"Hosil bo'lgan matritsa:\")\n",
        "    for r in matrix:\n",
        "        print(*r)"
      ],
      "metadata": {
        "id": "bJAA_vdqtBBn"
      },
      "execution_count": 5,
      "outputs": []
    },
    {
      "cell_type": "code",
      "source": [
        "def m_4():\n",
        "    n = int(input(\"Ustunlar soni n= \"))\n",
        "    m = int(input(\"Satrlar soni m= \"))\n",
        "    row= input(f\"{m} ta son kiriting\").split(\",\")\n",
        "    row=[int(i) for i in row]\n",
        "    matrix=[]\n",
        "    for i in range(m):\n",
        "      matrix.append(row)\n",
        "    for r in matrix:\n",
        "      print(r)"
      ],
      "metadata": {
        "id": "PcjZjMB74kG0"
      },
      "execution_count": 6,
      "outputs": []
    },
    {
      "cell_type": "code",
      "source": [
        "def m_5():\n",
        "    n = int(input(\"Ustunlar soni n= \"))\n",
        "    m = int(input(\"Satrlar soni m= \"))\n",
        "    d = float(input(\"Son kiriting: \"))\n",
        "\n",
        "    first_col = input(f\"{m} ta sonni vergul bilan kiriting: \").split(\",\")\n",
        "    first_col = [int(i) for i in first_col]\n",
        "\n",
        "    matrix=[]\n",
        "    for i in first_col:\n",
        "        row = []\n",
        "        for j in range(n):\n",
        "            row.append(i + j * d)  # Har ustunda d ga ortib boradi\n",
        "        matrix.append(row)\n",
        "\n",
        "    print(\"Hosil bo'lgan matritsa:\")\n",
        "    for r in matrix:\n",
        "        print(r)\n",
        "m_5()"
      ],
      "metadata": {
        "id": "mof-6JhY7BoN",
        "outputId": "37142c93-8aa8-44ec-f6bc-2d72a9a80fc4",
        "colab": {
          "base_uri": "https://localhost:8080/"
        }
      },
      "execution_count": 33,
      "outputs": [
        {
          "output_type": "stream",
          "name": "stdout",
          "text": [
            "Ustunlar soni n= 3\n",
            "Satrlar soni m= 4\n",
            "Son kiriting: 2\n",
            "4 ta sonni vergul bilan kiriting: 3,4,5,6\n",
            "Hosil bo'lgan matritsa:\n",
            "[3.0, 5.0, 7.0]\n",
            "[4.0, 6.0, 8.0]\n",
            "[5.0, 7.0, 9.0]\n",
            "[6.0, 8.0, 10.0]\n"
          ]
        }
      ]
    },
    {
      "cell_type": "code",
      "source": [
        "def m_6():\n",
        "  m = int(input(\"Satrlar soni  m = \"))\n",
        "  n = int(input(\"Ustunlar soni n = \"))\n",
        "  q = float(input(\"son kiriting=>\"))\n",
        "  row= input(f\"{m} ta son kiriting\").split(\",\")\n",
        "  row = [float(i) for i in row]\n",
        "\n",
        "\n",
        "  matrix = []\n",
        "  for i in range(m):\n",
        "        row = [x + i * q for x in row]\n",
        "        matrix.append(row)\n",
        "\n",
        "  print(\"\\nHosil bo'lgan matritsa:\")\n",
        "  for r in matrix:\n",
        "        print(r)\n",
        "\n",
        "m_6()"
      ],
      "metadata": {
        "id": "J0nw6Ms4BbUB",
        "outputId": "28840e46-d421-4b43-9f9c-7a73b6cbea8b",
        "colab": {
          "base_uri": "https://localhost:8080/"
        }
      },
      "execution_count": 34,
      "outputs": [
        {
          "output_type": "stream",
          "name": "stdout",
          "text": [
            "Satrlar soni  m = 3\n",
            "Ustunlar soni n = 4\n",
            "son kiriting=>3\n",
            "3ta son kiriting4,5,6\n",
            "\n",
            "Hosil bo'lgan matritsa:\n",
            "[4.0, 5.0, 6.0]\n",
            "[7.0, 8.0, 9.0]\n",
            "[13.0, 14.0, 15.0]\n"
          ]
        }
      ]
    },
    {
      "cell_type": "code",
      "source": [
        "import  random\n",
        "def m_7():\n",
        "  m = int(input(\"Satrlar soni  m = \"))\n",
        "  n = int(input(\"Ustunlar soni n = \"))\n",
        "  k = int(input(\"son kiriritng(0<k<m)k = \"))\n",
        "  if 0<k<m:\n",
        "    matrix = []\n",
        "    for i in range(m):\n",
        "      row = [random.randint(0, 9) for j in range(n)]\n",
        "      matrix.append(row)\n",
        "    print(\"\\n dartlabgi matrissa\")\n",
        "    for r in matrix:\n",
        "      print(r)\n",
        "    print(f\"{k}-satri\\n\")\n",
        "    print(matrix[k-1])\n",
        "  else:\n",
        "    print(\"k ni (0<k<m) oraliqda kiriting:\")\n",
        "\n",
        "m_7()"
      ],
      "metadata": {
        "id": "lwgKUKQOMhkx",
        "outputId": "e25d0b9e-58c3-4936-a21e-7c8abc9e4c4c",
        "colab": {
          "base_uri": "https://localhost:8080/"
        }
      },
      "execution_count": 38,
      "outputs": [
        {
          "output_type": "stream",
          "name": "stdout",
          "text": [
            "Satrlar soni  m = 4\n",
            "Ustunlar soni n = 5\n",
            "son kiriritng(0<k<m)k = 2\n",
            "\n",
            " dartlabgi matrissa\n",
            "[6, 7, 8, 6, 7]\n",
            "[0, 1, 6, 3, 8]\n",
            "[4, 8, 3, 3, 7]\n",
            "[5, 6, 6, 6, 8]\n",
            "2-satri\n",
            "\n",
            "[0, 1, 6, 3, 8]\n"
          ]
        }
      ]
    },
    {
      "cell_type": "code",
      "source": [
        "def m_8():\n",
        "  m = int(input(\"Satrlar soni  m = \"))\n",
        "  n = int(input(\"Ustunlar soni n = \"))\n",
        "  k = int(input(\"son kiriritng(0<k<n)k = \"))-1\n",
        "  matrix = []\n",
        "  for i in range(m):\n",
        "    row = [random.randint(0,9) for j in range (n)]\n",
        "    matrix.append(row)\n",
        "  print(\"Dastlabgi matrix\")\n",
        "  for row in matrix:\n",
        "    print(row)\n",
        "  if 0<k<n:\n",
        "    print(f\"matrixni {k+1}-ustuni\")\n",
        "    for  i in matrix:\n",
        "      print(i[k])\n",
        "    else:\n",
        "      print(\"k ni (0<k<n) oraliqda kiriting:\")\n"
      ],
      "metadata": {
        "id": "hC94MEAnRyYt"
      },
      "execution_count": 10,
      "outputs": []
    },
    {
      "cell_type": "code",
      "source": [
        "def  m_9():\n",
        "  m = int(input(\"Satrlar soni  m = \"))\n",
        "  n = int(input(\"Ustunlar soni n = \"))\n",
        "  matrix = []\n",
        "  for i  in range(m):\n",
        "    row = [random.randint(0,9) for j in range(n)]\n",
        "    matrix.append(row)\n",
        "  print(\"Dastlabgi matrix\")\n",
        "  for row in matrix:\n",
        "    print(row)\n",
        "  print(\"matrix ni juft elemantlari(2,4,6...)\")\n",
        "  for s in range(1,m,2):\n",
        "    print(matrix[s])"
      ],
      "metadata": {
        "id": "ef6FwkWiVHcz"
      },
      "execution_count": 11,
      "outputs": []
    },
    {
      "cell_type": "code",
      "source": [
        "def m_10():\n",
        "  m = int(input(\"Satrlar soni  m = \"))\n",
        "  n = int(input(\"Ustunlar soni n = \"))\n",
        "  matrix = []\n",
        "  for i in range(m):\n",
        "    row  = [random.randint(0,9) for j in range(n)]\n",
        "    matrix.append(row)\n",
        "  print(\"Dastlabgi matrix\")\n",
        "  for row in matrix:\n",
        "    print(row)\n",
        "    print(\"\\nMatritsaning toq ustunlari (1, 3, 5, ...):\")\n",
        "    for row in matrix:\n",
        "        for s in range(0, n, 2):\n",
        "            print(row[s], end=\" \")\n",
        "        print()\n",
        "\n"
      ],
      "metadata": {
        "id": "eLfgu_LAnm0a"
      },
      "execution_count": 12,
      "outputs": []
    },
    {
      "cell_type": "code",
      "source": [
        "def m_11():\n",
        "  m = int(input(\"Satrlar soni  m = \"))\n",
        "  n = int(input(\"Ustunlar soni n = \"))\n",
        "  matrix = []\n",
        "  for i in range(m):\n",
        "    row  = [random.randint(0,9) for j in range(n)]\n",
        "    matrix.append(row)\n",
        "  print(\"Dastlabgi matrix\")\n",
        "  for row in matrix:\n",
        "    print(row)\n",
        "  print(\"Natija\")\n",
        "  for i in range(m):\n",
        "    if i % 2 == 0:\n",
        "      for v in matrix[i]:\n",
        "        print(v, end=\" \")\n",
        "      print()\n",
        "    else:\n",
        "        for v in reversed(matrix[i]):\n",
        "          print(v, end=\" \")\n",
        "    print()"
      ],
      "metadata": {
        "id": "ftVcAkiHoEkm"
      },
      "execution_count": 13,
      "outputs": []
    },
    {
      "cell_type": "code",
      "source": [
        "def m_12():\n",
        "  m = int(input(\"Satrlar soni  m = \"))\n",
        "  n = int(input(\"Ustunlar soni n = \"))\n",
        "  matrix = []\n",
        "  for i in range(m):\n",
        "    row  = [random.randint(0,9) for j in range(n)]\n",
        "    matrix.append(row)\n",
        "  print(\"Dastlabgi matrix\")\n",
        "  for row in matrix:\n",
        "    print(row)\n",
        "  print(\"\\nNatija:\")\n",
        "  for col in range(n):\n",
        "      if col % 2 == 0:\n",
        "          for r in matrix:\n",
        "              print(r[col], end=\" \")\n",
        "      else:  # toq ustun pastdan yuqoriga\n",
        "          for r in reversed(matrix):\n",
        "              print(r[col], end=\" \")\n",
        "      print()"
      ],
      "metadata": {
        "id": "m_C4iRzZuMwF"
      },
      "execution_count": 14,
      "outputs": []
    },
    {
      "cell_type": "code",
      "source": [
        "import random\n",
        "\n",
        "def m_13():\n",
        "    m = int(input(\"Satrlar soni m = \"))\n",
        "    matrix = []\n",
        "    for i in range(m):\n",
        "        row = [random.randint(0, 9) for j in range(m)]\n",
        "        matrix.append(row)\n",
        "\n",
        "    print(\"Dastlabgi matrix\")\n",
        "    for row in matrix:\n",
        "        print(row)\n",
        "\n",
        "    print(\"\\nYordamchi diagonaldan yuqorisi:\")\n",
        "    for i in range(m):\n",
        "        for j in range(m):\n",
        "            if i + j <= m - 1:\n",
        "                print(matrix[i][j], end=\" \")\n",
        "            else:\n",
        "                print(\" \", end=\" \")\n",
        "        print()\n",
        "\n",
        "    print(\"\\nYordamchi diagonaldan pasti:\")\n",
        "    for i in range(m):\n",
        "        for j in range(m):\n",
        "            if i + j > m - 1:\n",
        "                print(matrix[i][j], end=\" \")\n",
        "            else:\n",
        "                print(\" \", end=\" \")\n",
        "        print()\n"
      ],
      "metadata": {
        "id": "zetmhEbl2Ltz"
      },
      "execution_count": 15,
      "outputs": []
    },
    {
      "cell_type": "code",
      "source": [
        "import random\n",
        "\n",
        "def m_14():\n",
        "    m = int(input(\"Matrisa o'lchamini kiriting m = \"))\n",
        "\n",
        "    matrix = []\n",
        "    for i in range(m):\n",
        "        row = [random.randint(0, 9) for j in range(m)]\n",
        "        matrix.append(row)\n",
        "\n",
        "    print(\"Dastlabgi matritsa:\")\n",
        "    for row in matrix:\n",
        "        print(row)\n",
        "\n",
        "    print(\"\\nYordamchi diagonaldan yuqori qismi:\")\n",
        "    for i in range(m):\n",
        "        for j in range(m):\n",
        "            if i + j <= m - 1:  # yordamchi diagonaldan yuqorisi\n",
        "                print(matrix[i][j], end=\" \")\n",
        "            else:\n",
        "                print(\" \", end=\" \")\n",
        "        print()\n",
        "    print(\"\\nYordamchi diagonaldan pasti qismi:\")\n",
        "    for i in range(m):\n",
        "        for j in range(m):\n",
        "            if i + j >= m - 1:  # yordamchi diagonaldan yuqorisi\n",
        "                print(matrix[i][j], end=\" \")\n",
        "            else:\n",
        "                print(\" \", end=\" \")\n",
        "        print()\n",
        "\n",
        "\n"
      ],
      "metadata": {
        "id": "6Zm2LutL3J9U"
      },
      "execution_count": 16,
      "outputs": []
    },
    {
      "cell_type": "code",
      "source": [
        "def spiral_print(matrix):\n",
        "    result = []\n",
        "    if not matrix:\n",
        "        return result\n",
        "\n",
        "    # Boshlang‘ich chegaralar\n",
        "    top = 0\n",
        "    bottom = len(matrix) - 1\n",
        "    left = 0\n",
        "    right = len(matrix[0]) - 1\n",
        "\n",
        "    while top <= bottom and left <= right:\n",
        "        # Chapdan o‘ngga yurish\n",
        "        for i in range(left, right + 1):\n",
        "            result.append(matrix[top][i])\n",
        "        top += 1\n",
        "\n",
        "        # Yuqoridan pastga yurish\n",
        "        for i in range(top, bottom + 1):\n",
        "            result.append(matrix[i][right])\n",
        "        right -= 1\n",
        "\n",
        "        # O‘ngdan chapga yurish (agar qator qolgan bo‘lsa)\n",
        "        if top <= bottom:\n",
        "            for i in range(right, left - 1, -1):\n",
        "                result.append(matrix[bottom][i])\n",
        "            bottom -= 1\n",
        "\n",
        "        # Pastdan yuqoriga yurish (agar ustun qolgan bo‘lsa)\n",
        "        if left <= right:\n",
        "            for i in range(bottom, top - 1, -1):\n",
        "                result.append(matrix[i][left])\n",
        "            left += 1\n",
        "\n",
        "    return result\n",
        "\n",
        "\n",
        "mat = [\n",
        "    [1, 2, 3, 4],\n",
        "    [5, 6, 7, 8],\n",
        "    [9, 10, 11, 12],\n",
        "    [13, 14, 15, 16]\n",
        "]\n",
        "\n",
        "spiral = spiral_print(mat)\n",
        "print(\"Spiral tartib:\", spiral)\n"
      ],
      "metadata": {
        "colab": {
          "base_uri": "https://localhost:8080/"
        },
        "id": "E_uWg9VGrlA4",
        "outputId": "e55fc4fa-570a-4b6d-cfa4-e21e609e157a"
      },
      "execution_count": 17,
      "outputs": [
        {
          "output_type": "stream",
          "name": "stdout",
          "text": [
            "Spiral tartib: [1, 2, 3, 4, 8, 12, 16, 15, 14, 13, 9, 5, 6, 7, 11, 10]\n"
          ]
        }
      ]
    },
    {
      "cell_type": "code",
      "source": [
        "def spiral_matrix_reverse(n, m):\n",
        "    matrix = [[i * m + j + 1 for j in range(m)] for i in range(n)]\n",
        "\n",
        "    print(\"Dastlabki matrisa:\")\n",
        "    for row in matrix:\n",
        "        print(row)\n",
        "\n",
        "    # Spiral indekslar ro'yxatini yaratish\n",
        "    spiral_order = []\n",
        "    top, left = 0, 0\n",
        "    bottom, right = n - 1, m - 1\n",
        "\n",
        "    while top <= bottom and left <= right:\n",
        "        for j in range(left, right + 1):  # chapdan o'ngga\n",
        "            spiral_order.append(matrix[top][j])\n",
        "        top += 1\n",
        "\n",
        "        for i in range(top, bottom + 1):  # yuqoridan pastga\n",
        "            spiral_order.append(matrix[i][right])\n",
        "        right -= 1\n",
        "\n",
        "        if top <= bottom:\n",
        "            for j in range(right, left - 1, -1):  # o'ngdan chapga\n",
        "                spiral_order.append(matrix[bottom][j])\n",
        "            bottom -= 1\n",
        "\n",
        "        if left <= right:\n",
        "            for i in range(bottom, top - 1, -1):  # pastdan yuqoriga\n",
        "                spiral_order.append(matrix[i][left])\n",
        "            left += 1\n",
        "\n",
        "    # Spiralni teskari chiqarish\n",
        "    print(\"\\nSpiral bo'ylab teskari:\")\n",
        "    for val in reversed(spiral_order):\n",
        "        print(val, end=\" \")\n",
        "\n"
      ],
      "metadata": {
        "id": "J4rcqY0NruIO"
      },
      "execution_count": 18,
      "outputs": []
    },
    {
      "cell_type": "markdown",
      "source": [
        "#Massiv Elemantlarini taxlil qilish"
      ],
      "metadata": {
        "id": "jxW5Zae_t3V3"
      }
    },
    {
      "cell_type": "code",
      "source": [
        "def m_17():\n",
        "  m = int(input(\"Satrlar soni  m = \"))\n",
        "  n = int(input(\"Ustunlar soni n = \"))\n",
        "  k = int(input(\"son kiriritng(0<k<m)k = \"))-1\n",
        "\n",
        "  matrix = []\n",
        "  for i in range(m):\n",
        "    row = [random.randint(0,9) for j in range(n)]\n",
        "    matrix.append(row)\n",
        "  print(\"Dastlabgi matrix\")\n",
        "  for row in matrix:\n",
        "    print(row)\n",
        "\n",
        "  satr = matrix[k]\n",
        "  print(f\"{k+1} satr element yig\\'indisi\\n{sum(satr)}\")"
      ],
      "metadata": {
        "id": "ZgpjRjzfuFBV"
      },
      "execution_count": 19,
      "outputs": []
    },
    {
      "cell_type": "code",
      "source": [
        "def m_18():\n",
        "  m = int(input(\"Satrlar soni  m = \"))\n",
        "  n = int(input(\"Ustunlar soni n = \"))\n",
        "  k = int(input(\"son kiriritng(0<k<n)k = \"))-1\n",
        "  matrix =[]\n",
        "\n",
        "  for i in range(m):\n",
        "    row = [random.randint(0,9) for j in range(n)]\n",
        "    matrix.append(row)\n",
        "  print(\"Dastlabgi matrix\")\n",
        "  for row in matrix:\n",
        "    print(row)\n",
        "  column  = [matrix[i][k] for i in range(m)]\n",
        "  print(f\"{k+1} ustun elementlar yig\\'indisi\\n{sum(column)}\")"
      ],
      "metadata": {
        "id": "B7Y6-ec0wLvz"
      },
      "execution_count": 20,
      "outputs": []
    },
    {
      "cell_type": "code",
      "source": [
        "def m_19():\n",
        "  m = int(input(\"Satrlar soni  m = \"))\n",
        "  n = int(input(\"Ustunlar soni n = \"))\n",
        "  matrix =[]\n",
        "\n",
        "  for i in range(m):\n",
        "    row = [random.randint(0,9) for j in range(n)]\n",
        "    matrix.append(row)\n",
        "  print(\"Dastlabgi matrix\")\n",
        "  for row in matrix:\n",
        "    print(row)\n",
        "  for i in range(m):\n",
        "    print(f\"{i+1}- satr yig\\'indisi\\n{sum(matrix[i])}\")\n",
        "  for j in range(n):\n",
        "    print(f\"{j+1} ustun yig\\'indisi\\n{sum(matrix[i][j] for i in range(m))}\")\n"
      ],
      "metadata": {
        "id": "q4ltX7PFMvfk"
      },
      "execution_count": 21,
      "outputs": []
    },
    {
      "cell_type": "code",
      "source": [
        "import random\n",
        "\n",
        "def m_20():\n",
        "    m = int(input(\"Satrlar soni  m = \"))\n",
        "    n = int(input(\"Ustunlar soni n = \"))\n",
        "\n",
        "    matrix = [[random.randint(0, 9) for j in range(n)] for i in range(m)]\n",
        "    print(\"Dastlabgi matritsa:\")\n",
        "    for row in matrix:\n",
        "        print(row)\n",
        "\n",
        "    for j in range(n):\n",
        "        kopaytma = 1\n",
        "        for i in range(m):\n",
        "            kopaytma *= matrix[i][j]\n",
        "        print(f\"{j+1}-ustun ko'paytmasi:\", kopaytma)\n",
        "\n"
      ],
      "metadata": {
        "id": "05n9xX5PyuVl"
      },
      "execution_count": 22,
      "outputs": []
    },
    {
      "cell_type": "code",
      "source": [
        "\n",
        "def m_21_ustun_boyicha():\n",
        "    m = int(input(\"Satrlar soni m = \"))\n",
        "    n = int(input(\"Ustunlar soni n = \"))\n",
        "\n",
        "    matrix = [[random.randint(0, 9) for j in range(n)] for i in range(m)]\n",
        "\n",
        "    print(\"Dastlabgi matritsa:\")\n",
        "    for row in matrix:\n",
        "        print(row)\n",
        "\n",
        "    print(\"\\nToq ustunlarning o‘rta arifmetiklari:\")\n",
        "    for col in range(0, n, 2):\n",
        "        ustun_sum = sum(matrix[row][col] for row in range(m))\n",
        "        orta_arifmetik = ustun_sum / m\n",
        "        print(f\"{col+1}-ustun: {orta_arifmetik:.2f}\")\n",
        "def m_21():\n",
        "  m = int(input(\"Satrlar soni  m = \"))\n",
        "  n = int(input(\"Ustunlar soni n = \"))\n",
        "  matrix =[[random.randint(0,9) for i in range(n) ] for j in range(m)]\n",
        "  print(\"Dastlabgi matrix\")\n",
        "  for row in matrix:\n",
        "    print(row)\n",
        "  print(\"---------------------------------------------------------\")\n",
        "  for i in range(0,m,2):\n",
        "    satr_sum = sum(matrix[i])\n",
        "    orta_arifmetik = satr_sum / n\n",
        "    print(f\"{i+1}-satr: {orta_arifmetik:.2f}\")"
      ],
      "metadata": {
        "id": "kzO1rY9B8QuX"
      },
      "execution_count": 23,
      "outputs": []
    },
    {
      "cell_type": "code",
      "source": [
        "def m_22():\n",
        "  m = int(input(\"Satrlar soni m = \"))\n",
        "  n = int(input(\"Ustunlar soni n = \"))\n",
        "\n",
        "  matrix = [[random.randint(0, 9) for i in range(n)] for j in range]\n",
        "\n",
        "  print(\"Dastlabgi matritsa:\")\n",
        "  for row in matrix:\n",
        "      print(row)\n",
        "  print(\"----------------------------------------\")\n",
        "  for i in range(1,m,2):\n",
        "    satr_sum = sum(matrix[i])\n",
        "\n",
        "    print(f\"{i+1}-satr: {satr_sum}\")\n"
      ],
      "metadata": {
        "id": "9SS92X50V3Ri"
      },
      "execution_count": 24,
      "outputs": []
    },
    {
      "cell_type": "code",
      "source": [
        "def m_23():\n",
        "  import random\n",
        "  m = int(input(\"Satrlar soni m = \"))\n",
        "  n = int(input(\"Ustunlar soni n = \"))\n",
        "\n",
        "  matrix = [[random.randint(0, 9) for _ in range(n)] for _ in range(m)]\n",
        "\n",
        "  print(\"Dastlabgi matritsa:\")\n",
        "  for row in matrix:\n",
        "    print(row)\n",
        "  print(\"----------------------------------------\")\n",
        "  for i in range(m):\n",
        "    print(f\"{i+1}-satrning eng kichik qiymati => {min(matrix[i])}\")\n"
      ],
      "metadata": {
        "id": "klyT_vv1WMnH"
      },
      "execution_count": 25,
      "outputs": []
    },
    {
      "cell_type": "code",
      "source": [
        "import random\n",
        "def m_24():\n",
        "  n = int(input(\"Ustunlar soni n = \"))\n",
        "  m = int(input(\"Satrlar soni m = \"))\n",
        "  matrix = [[random.randint(0, 9) for _ in range(n)] for _ in range(m)]\n",
        "  print(\"Dastlabgi matritsa:\")\n",
        "  for row in matrix:\n",
        "    print(row)\n",
        "  print(\"------------------------------------\")\n",
        "  for i in range(n):\n",
        "    ustun = min(matrix[j][i]for j in range(m))\n",
        "    print(f\"{i+1}- ustunda eng kichik qiymat qaysi element=> {ustun}\")\n"
      ],
      "metadata": {
        "id": "ACqD3PmXo6K2"
      },
      "execution_count": 26,
      "outputs": []
    },
    {
      "cell_type": "code",
      "source": [
        "from ast import Index\n",
        "import random\n",
        "def m_25():\n",
        "\n",
        "  n = int(input(\"Ustunlar soni n = \"))\n",
        "  m = int(input(\"Satrlar soni m = \"))\n",
        "  matrix = [[random.randint(0, 9) for s in range(n)] for k in range(m)]\n",
        "\n",
        "  print(\"Dastlabgi matritsa:\")\n",
        "  for row in matrix:\n",
        "    print(row)\n",
        "  print(\"------------------------------------\")\n",
        "  sum_list = []\n",
        "  for i in range(m):\n",
        "    satr_sum = sum(matrix[i])\n",
        "    sum_list.append(satr_sum)\n",
        "    print(f\"\"\"{i+1}-satrning yigindisi => {satr_sum}\n",
        "    {i+1}-sartdagi max elemaning indexi => {sum_list.index(max(sum_list))}\"\"\")\n"
      ],
      "metadata": {
        "id": "7sD7R2ayrSql"
      },
      "execution_count": 27,
      "outputs": []
    },
    {
      "cell_type": "code",
      "source": [
        "import random\n",
        "def m_26():\n",
        "\n",
        "  n = int(input(\"Ustunlar soni n = \"))\n",
        "  m = int(input(\"Satrlar soni m = \"))\n",
        "  matrix = [[random.randint(0, 9) for s in range(n)] for k in range(m)]\n",
        "\n",
        "  print(\"Dastlabgi matritsa:\")\n",
        "  for row in matrix:\n",
        "    print(row)\n",
        "  print(\"------------------------------------\")\n",
        "  kopaytma_list = []\n",
        "  for i in range(n):\n",
        "    kopaytma = 1\n",
        "    for j in range(m):\n",
        "      kopaytma *= matrix[j][i]\n",
        "    print(f\"{i+1}-ustun ko'paytmasi => {kopaytma}\")\n",
        "    kopaytma_list.append(kopaytma)\n",
        "  print(f\"\"\"Eng kichik ko'paytma => {min(kopaytma_list)}\n",
        "  eng kichik ustunning kopaymasi index=>{kopaytma_list.index(min(kopaytma_list))}\"\"\")\n"
      ],
      "metadata": {
        "id": "i4fj_rRzulEX"
      },
      "execution_count": 28,
      "outputs": []
    },
    {
      "cell_type": "code",
      "source": [
        "def m_27():\n",
        "\n",
        "  n = int(input(\"Ustunlar soni n = \"))\n",
        "  m = int(input(\"Satrlar soni m = \"))\n",
        "  matrix = [[random.randint(0, 9) for s in range(n)] for k in range(m)]\n",
        "\n",
        "  print(\"Dastlabgi matritsa:\")\n",
        "  for row in matrix:\n",
        "    print(row)\n",
        "  print(\"------------------------------------\")\n",
        "  sum_list = []\n",
        "  for i in range(m):\n",
        "    satr_sum = sum(matrix[i])\n",
        "    sum_list.append(satr_sum)\n",
        "    print(f\"{i+1}-satrning yigindisi => {satr_sum}\")\n",
        "  print(f\"\"\"{sum_list.index(max(sum_list))+1}-satrning yigindisi eng katta => {max(sum_list)}\n",
        "  {sum_list.index(min(sum_list))+1}-satrning yigindisi eng kichik => {min(sum_list)}\n",
        "  eng Katta   yigindini engkchigiga nisbati=>{max(sum_list)/min(sum_list):.2f}\"\"\")\n",
        "m_27()"
      ],
      "metadata": {
        "id": "sohl1589wjEa",
        "outputId": "14f9b782-b489-4337-94f4-1a35d4283fb5",
        "colab": {
          "base_uri": "https://localhost:8080/"
        }
      },
      "execution_count": 41,
      "outputs": [
        {
          "output_type": "stream",
          "name": "stdout",
          "text": [
            "Ustunlar soni n = 4\n",
            "Satrlar soni m = 5\n",
            "Dastlabgi matritsa:\n",
            "[9, 9, 3, 3]\n",
            "[9, 5, 4, 9]\n",
            "[1, 7, 4, 3]\n",
            "[0, 0, 7, 0]\n",
            "[6, 3, 6, 0]\n",
            "------------------------------------\n",
            "1-satrning yigindisi => 24\n",
            "2-satrning yigindisi => 27\n",
            "3-satrning yigindisi => 15\n",
            "4-satrning yigindisi => 7\n",
            "5-satrning yigindisi => 15\n",
            "2-satrning yigindisi eng katta => 27\n",
            "  4-satrning yigindisi eng kichik => 7\n",
            "  eng Katta   yigindini engkchigiga nisbati=>3.86\n"
          ]
        }
      ]
    },
    {
      "cell_type": "code",
      "source": [
        "import random\n",
        "def m_28():\n",
        "  n = int(input(\"Ustunlar soni n = \"))\n",
        "  m = int(input(\"Satrlar soni m = \"))\n",
        "  matrix = [[random.randint(0, 9) for s in range(n)] for k in range(m)]\n",
        "\n",
        "  print(\"Dastlabgi matritsa:\")\n",
        "  for row in matrix:\n",
        "    print(row)\n",
        "  print(\"------------------------------------\")\n",
        "  koptma_list = []\n",
        "  for i in range(n):\n",
        "\n",
        "    ustun = max(matrix[j][i]for j in range(m))\n",
        "    koptma_list.append(ustun)\n",
        "    print(f\"{i+1}- ustunda eng katta qiymat qaysi element=> {ustun}\")\n",
        "  print(f\"\"\"\\n{koptma_list.index(max(koptma_list))} - index eng katta qiymat=>{max(koptma_list)}\\n\n",
        "  {koptma_list.index(min(koptma_list))}-index eng kichi qiymat=>{min(koptma_list)}\\n\n",
        "  eng katta kopayma eng kichik kopaymaga nisbati->{max(koptma_list)/min(koptma_list):.2}\"\"\")\n",
        "m_28()\n"
      ],
      "metadata": {
        "id": "KyX1hgei0ZFH",
        "outputId": "15266bad-8980-452b-95e9-835ca99f0fab",
        "colab": {
          "base_uri": "https://localhost:8080/"
        }
      },
      "execution_count": 39,
      "outputs": [
        {
          "output_type": "stream",
          "name": "stdout",
          "text": [
            "Ustunlar soni n = 4\n",
            "Satrlar soni m = 5\n",
            "Dastlabgi matritsa:\n",
            "[0, 7, 5, 2]\n",
            "[9, 5, 0, 6]\n",
            "[3, 4, 0, 6]\n",
            "[3, 5, 4, 5]\n",
            "[1, 1, 1, 5]\n",
            "------------------------------------\n",
            "1- ustunda eng katta qiymat qaysi element=> 9\n",
            "2- ustunda eng katta qiymat qaysi element=> 7\n",
            "3- ustunda eng katta qiymat qaysi element=> 5\n",
            "4- ustunda eng katta qiymat qaysi element=> 6\n",
            "\n",
            "0 - index eng katta qiymat=>9\n",
            "\n",
            "  2-index eng kichi qiymat=>5\n",
            "\n",
            "  eng katta kopayma eng kichik kopaymaga nisbati->1.8\n"
          ]
        }
      ]
    },
    {
      "cell_type": "markdown",
      "source": [],
      "metadata": {
        "id": "7W_qo9nyqWyH"
      }
    }
  ]
}